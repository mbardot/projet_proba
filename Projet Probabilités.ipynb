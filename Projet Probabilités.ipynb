{
 "cells": [
  {
   "cell_type": "markdown",
   "metadata": {},
   "source": [
    "# Processus ponctuels \n",
    "\n",
    "Les processus ponctuels sont des modèles probabilistes permettant de décrire la position aléatoire de points dans un domaine spatial. Ils peuvent être utilisés pour modéliser un grand nombre de phénomènes, parmi lesquels on peut citer l'implantation des essences d'arbres au sein d'une forêt, la position des épicentres de séismes ou des départs de feux, la mortalité dans une épidémie, ou encore l'occurence de crimes ou délits en zone urbaine. \n",
    "\n",
    "Dans ce projet, on se propose d'étudier et de simuler un certain nombre de modèles dans $\\mathbb{R}^2$, de complexité croissante, de manière à construire un prototype de modèle écologique visant à simuler la plantation puis l'évolution d'une forêt.\n",
    "\n",
    "On admet que l'on caractérise la loi de probabilité d'un processus ponctuel spatial $\\mathcal{P}$ par le biais de sa *mesure de comptage*, qui est l'application qui à $A \\in \\mathcal{B}(\\mathbb{R}^2)$ associe $N(A)$, la variable aléatoire qui donne le nombre de points de $\\mathcal{P}$ contenus dans $A$. \n",
    "\n",
    "La *loi spatiale de la mesure de comptage* est définie $\\forall p \\in \\mathbb{N^\\star}, \\forall n_1,\\ldots,n_p \\in \\mathbb{N}^p, \\forall A_1,\\ldots,A_p \\in \\mathcal{B}(\\mathbb{R}^2)$ par $\\mathbb{P}(N(A_1)= n_1, \\ldots, N(A_n)=n_p)$.\n",
    "\n",
    "## Processus de Poisson homogène\n",
    "\n",
    "On définit le processus de Poisson homogène de la manière suivante :\n",
    "\n",
    "1. Si $ A \\in {\\cal B} (\\R^2) $, alors $N (A)$ suit\n",
    "      une loi de Poisson de paramètre $\\theta \\, | A |$, avec $|A| = \\lambda(A)$, où $\\lambda$ est la mesure de Lebesgue\n",
    "      $$ \\mathbb{P} ( N (A) = n) = \\exp \\bigl( - \\theta | A | \\bigr) \\frac{\n",
    "        \\bigl( \\theta | A | \\bigr)^n }{n!},~n \\in \\N $$\n",
    "\n",
    "2. Pour tout $p\\ge 2$, si $A_1,...,A_p \\in {\\cal B} (\\R^2) $ sont \n",
    "      disjoints deux à deux, alors $ N(A_1),...,N(A_p)$ sont \n",
    "      mutuellement indépendants\n",
    "\n",
    "Le paramètre $\\theta$ est appelé l'intensité du processus.\n",
    "\n",
    "**Question 1.** \n",
    "\n",
    "a. Montrer que cette définition permet de caractériser la loi spatiale de la mesure de comptage du processus pour un couple de boréliens. c'est-à-dire qu'elle permet de calculer $\\mathbb{P}(N(A)= n, N(B)=p),~\\forall \\,n,p \\in \\mathbb{N^\\star} \\,\\forall A, B \\in \\mathcal{B}(\\mathbb{R}^2)$.\n",
    "\n",
    "b. *(facultatif)* Montrer que cette définition permet de caractériser la loi spatiale de la mesure de comptage du processus.\n"
   ]
  },
  {
   "cell_type": "markdown",
   "metadata": {},
   "source": [
    "$\\textbf{Résponse Question 1 :}$\n",
    "\n",
    "$\\mathbb{P} (N(A) = n, N(B) = p )  = \\sum_{i = 0}^{min(n,p)}{\\mathbb{P}((N(A \\setminus B) = n-i)) \\cap (N(A \\cap B)  = i) \\cap (N(B \\setminus A) = p-i)} =  \\sum_{i = 0}^{min(n,p)}{\\mathbb{P}(N(A \\setminus B) = n-i) * \\mathbb{P}(N(A \\cap B)  = i) * \\mathbb{P}(N(B \\setminus A) = p-i)}$\n",
    "\n",
    "car ensemble disjoints donc évenements indépendant\n",
    "ainsi la loi est bien caractérisé (car on connait la proba de tout ces évenements)\n",
    "\n",
    "b/ De même, on partitionne l'union des An en N ensembles, il y a un nombre fini de facon de remplir les N ensembles de point en respectant la conditions (N(An) = nj, ..., N(A1)= n1) (qté majorée grossierement par max(ni)^N), toutes ces facons de remplir les N ensembles de la partitions forment des evenements disjoints (on pourra donc sommer les probabilités), et comme les N ensemble de la partitions sont disjoints également, on peut calculer la probabilité de chaque remplissage (par produit). Ainsi, la loi spatiale de comptage est également parfaitement défini et caractérisé. "
   ]
  },
  {
   "cell_type": "markdown",
   "metadata": {},
   "source": [
    "**Question 2.** Soit $n \\in \\mathbb{N}^\\star$, montrer que pour tout $A, B\\in\\mathbb{R}^2$ tels que  $B \\subset A$, on a\n",
    " $$ \\mathbb{P}(N(B) = i | N(A) = n)={ n \\choose i } \\left( \\frac{ | B | }{ | A | } \\right)^i \n",
    "\\, \\left( 1 - \\frac{ | B | }{ | A | } \\right)^{n - i}$$\n",
    "En déduire que conditionnellement à $N(A)=n$, les $n$ points sont indépendamment et uniformément distribués dans $A$ \n",
    " \n",
    "*(Indication: On pourra faire un parallèle avec des expériences de Bernoulli indépendantes)*.\n"
   ]
  },
  {
   "cell_type": "markdown",
   "metadata": {},
   "source": [
    "$\\textbf{Résponse Question 2 :}$\n",
    "\n",
    "$ \\mathbb{P}(N(B) = i | N(A) = n) =\\frac{ \\mathbb{P}(N(B) = i) \\mathbb{P}((A \\setminus B) = n -i )}{\\mathbb{P}(N(A) = n)} = \\frac{(|A| -|B|)^{n-i}* |B|^{i}* n!}{(n-i)!i! |A|^n} = { n \\choose i } \\left( \\frac{ | B | }{ | A | } \\right)^i \n",
    "\\, \\left( 1 - \\frac{ | B | }{ | A | } \\right)^{n - i}$\n",
    "\n",
    "\n",
    "----------- à completer \n",
    "\n",
    "en prenant n = 1, on a que la loi conditionnelle suit une loi de bernoulli, toutefois rien ne nous dit que hors de cas n = 1, les lois marginales sont similaire (on pourrait avoir des lois marginales différentes qui donne la même loi la somme). La subtilité se trouve alors surement dans le fait que ce résultat est vrai pour tout B. \n"
   ]
  },
  {
   "cell_type": "markdown",
   "metadata": {},
   "source": [
    "**Question 3.** Soient $A, B \\in \\cal{B}(\\mathbb{R}^2)$, montrer que $\\mathrm{Cov}(N(A),N(B)) = \\theta |A \\cap B|$."
   ]
  },
  {
   "cell_type": "markdown",
   "metadata": {},
   "source": [
    "$\\textbf{Résponse Question 3 :}$\n",
    "\n",
    "ON a $ N(A) = N(A\\setminus B) + N(A \\cap B)$ \n",
    "\n",
    "de meme $   N(B) = N(B\\setminus A) + N(A \\cap B)      $\n",
    "\n",
    "Donc $N(A)N(B) = [N(A\\setminus B) + N(A \\cap B)][N(B\\setminus A) + N(A \\cap B)] = N(A\\setminus B)N(B\\setminus A) +[N(A\\setminus B)+ N(B\\setminus A)]N(A \\cap B)+ N(A \\cap B)^2$\n",
    "\n",
    "\n",
    "Ainsi, $ cov(N(A), N(B)) = cov(N(A\\setminus B),N(B\\setminus A)) + cov(N(A\\setminus B)+ N(B\\setminus A), N(A \\cap B)) + V(N(A \\cap B))$\n",
    "\n",
    "\n",
    "or toutes les covariances sont nulles car variables indépendantes (car ensemble disjoints)\n",
    "\n",
    " \n",
    "Ainsi, $cov(N(A), N(B))= V(N(A \\cap B)) = \\theta * |A\\cap B|$"
   ]
  },
  {
   "cell_type": "markdown",
   "metadata": {},
   "source": [
    "**Question 4.** Proposer et implémenter un algorithme de simulation d'un processus de Poisson de paramètre $\\theta = 0.05$ sur $[0,100]\\times [0,100]$. Représenter graphiquement une réalisation.\n",
    "\n",
    "*(Indication: On pourra utiliser les fonctions `random.poisson` et `random.uniform` de `numpy`)*"
   ]
  },
  {
   "cell_type": "code",
   "execution_count": 2,
   "metadata": {},
   "outputs": [
    {
     "name": "stdout",
     "output_type": "stream",
     "text": [
      "[519]\n"
     ]
    },
    {
     "data": {
      "image/png": "[encoded data removed]",
      "text/plain": [
       "<Figure size 640x480 with 1 Axes>"
      ]
     },
     "metadata": {},
     "output_type": "display_data"
    }
   ],
   "source": [
    "import numpy as np\n",
    "rng = np.random.default_rng(seed=42)\n",
    "import matplotlib.pyplot as plt\n",
    "import scipy.stats as sps\n",
    "theta = 0.05 \n",
    "nombre_point = (rng.poisson(theta*100*100, 1)) #nombre de point avec une loi de poisson\n",
    "print(nombre_point)\n",
    "x = rng.uniform(0, 100, nombre_point)#loi conditionnelle uniforme\n",
    "y = rng.uniform(0, 100, nombre_point)\n",
    "\n",
    "plt.scatter(x, y)\n",
    "plt.show()\n"
   ]
  },
  {
   "cell_type": "markdown",
   "metadata": {},
   "source": [
    "Cette première simulation peut représenter l'implantation de pousses d'arbres (en nombre poissonnien) réalisée \"au hasard\", par exemple après une coupe rase. On peut imaginer que des facteurs extérieurs puissent interférer avec ce processus, ce que l'on va décrire avec les processus de Poisson hétérogènes."
   ]
  },
  {
   "cell_type": "markdown",
   "metadata": {},
   "source": [
    "## Processus de Poisson hétérogène\n",
    "\n",
    "Dans le cas du processus de Poisson hétérogène, l'intensité du processus $ \\theta = \\left( \\theta (x), x \\in \\R^2 \\right)$ varie. Il se définit comme suit :\n",
    "\n",
    "1. Si $ A \\in {\\cal B} (\\R^2) $, alors $N (A)$\n",
    "      suit une loi de Poisson de paramètre\n",
    "      $$ \\theta (A) \\ = \\ \\int_A \\theta (x) \\, dx. $$\n",
    "\n",
    "2. Si $A_1,...,A_p \\in {\\cal B} (\\R^2) $ sont \n",
    "      disjoints deux à deux, alors $ N(A_1),...,N(A_p)$ sont \n",
    "      mutuellement indépendants\n"
   ]
  },
  {
   "cell_type": "markdown",
   "metadata": {},
   "source": [
    "\n",
    "**Question 1.**  Soit $n \\in \\mathbb{N}^\\star$, montrer que si $N(A)=n$ les $n$ points sont indépendamment distribués dans $A$ avec la même densité de probabilité \n",
    "  $$ f (x)=\\frac{\\theta (x)}{\\theta (A)}, \\qquad x \\in A $$\n",
    "\n",
    "*(Indication : On pourra considérer $B \\subset A$ quelconque et identifier la loi de $\\mathbb{P}(N(B) = i | N(A) = n)$. On pourra ensuite étudier $\\mathbb{P}(N(B) = 1 | N(A) = 1)$ pour identifier la loi de probabilité de l'implantation des points)*\n",
    "\n",
    " <!-- <font color='blue'> Au vu de ce qu'ils connaissent de la notion d'indépendance, est-ce qu'on pourrait pas plutôt leur faire montrer que pour tous $B_1, \\dots, B_p \\subset A$, \n",
    " $$ \\mathbb{P}(X_1\\in B_1, \\dots, X_n \\in B_n | N(A) = n) = \\prod_{i=1}^n\\mathbb{P}(U\\in B_i)$$\n",
    " où $(X_1, \\dots, X_n)$ représente le processus ponctuel conditionné et $U$ une variable uniforme dans A.\n",
    "\n",
    " Je propose:\n",
    "\n",
    "\n",
    "**Question 1.** Soit $n\\ge 1$ et $A \\in {\\cal B} (\\R^2)$. Supposons que le processus ponctuel vérifie $N(A)=n$ et notons $(X_1,\\dots, X_n)$ les positions aléatoires, dans $A$, des points du processus. \n",
    "\n",
    "**a.** Montrer que, pour tous $B_1, \\dots, B_n \\subset A$ deux à deux disjoints\n",
    "$$ \\mathbb{P}(X_1\\in B_1, \\dots, X_n \\in B_n | N(A) = n) = \\frac{1}{n!} \\mathbb{P}(N(B_1)=1, \\dots, N(B_n)=1 | N(A) = n) $$\n",
    "\n",
    "**b.** En déduire que, pour tous $B_1, \\dots, B_n \\subset A$ deux à deux disjoints\n",
    "$$ \\mathbb{P}(X_1\\in B_1, \\dots, X_n \\in B_n | N(A) = n) = \\prod_{i=1}^n\\mathbb{P}(U\\in B_i)$$\n",
    "où $U$ est la variable aléatoire de densité de probabilité \n",
    "  $$ f_U (x)=\\frac{\\theta (x)}{\\theta (A)}, \\qquad x \\in A. $$\n",
    "\n",
    "Et on admet que ca reste vrai quand les $B_i$ ne sont pas disjoints (ou alors on met ca en question bonus, acr c'est plus galère à faire...).\n",
    "\n",
    "-> l'idée est ici de leur faire utiliser la même démarche qu'en homogène pour établir l'indépendance\n",
    "\n",
    "  </font> -->"
   ]
  },
  {
   "cell_type": "markdown",
   "metadata": {},
   "source": [
    "**Question 3.** Soient $A, B \\in \\cal{B}(\\mathbb{R}^2)$, montrer que $\\mathrm{Cov}(N(A),N(B)) = \\theta (A \\cap B)$."
   ]
  },
  {
   "cell_type": "markdown",
   "metadata": {},
   "source": [
    "$Question 3 :$\n",
    "\n",
    "ON a $ N(A) = N(A\\setminus B) + N(A \\cap B)$ \n",
    "\n",
    "de meme $   N(B) = N(B\\setminus A) + N(A \\cap B)      $\n",
    "\n",
    "Donc $N(A)N(B) = [N(A\\setminus B) + N(A \\cap B)][N(B\\setminus A) + N(A \\cap B)] = N(A\\setminus B)N(B\\setminus A) +[N(A\\setminus B)+ N(B\\setminus A)]N(A \\cap B)+ N(A \\cap B)^2$\n",
    "\n",
    "\n",
    "Ainsi, $ cov(N(A), N(B)) = cov(N(A\\setminus B),N(B\\setminus A)) + cov(N(A\\setminus B)+ N(B\\setminus A), N(A \\cap B)) + V(N(A \\cap B))$\n",
    "\n",
    "\n",
    "or toutes les covariances sont nulles car variables indépendantes (car ensemble disjoints)\n",
    "\n",
    " \n",
    "Ainsi, $cov(N(A), N(B))= V(N(A \\cap B)) = \\theta (|A\\cap B|)$"
   ]
  },
  {
   "cell_type": "markdown",
   "metadata": {},
   "source": [
    "Si la plantation se fait en plusieurs campagnes, ou bien si on s'intéresse à différentes essences d'arbres, on peut être amené à combiner plusieurs processus ponctuels.\n",
    "\n",
    "**Question 4.** Montrer que l'union de deux processus de Poisson indépendants d'intensités respectives $\\theta_1$ et $\\theta_2$ est un processus de Poisson d'intensité $\\theta = \\theta_1+\\theta_2$."
   ]
  },
  {
   "cell_type": "markdown",
   "metadata": {},
   "source": [
    "On suppose que l'altitude (en mètres) du domaine d'étude $D=[0,100]\\times [0,100]$ peut être décrite par la fonction suivante : \n",
    "$$f(x) = 10^4 \\left(f_{(30,20),\\Sigma_1}(x) + f_{(80,45),\\Sigma_2}(x) + f_{(30,70),\\Sigma_3}(x)\\right), x\\in \\mathbb{R^2}$$\n",
    "\n",
    "où $f_{\\mu, \\Sigma}$ est la densité gaussienne bivariée d'espérance $\\mu$ et de matrice de covariance $\\Sigma$.\n",
    "\n",
    "**Question 5.** Représenter la topologie du domaine d'étude, avec\n",
    "$$\\Sigma_1 = \\begin{pmatrix} 400 & 30 \\\\ 30 & 100\\end{pmatrix}, \\Sigma_2 = \\begin{pmatrix} 100 & 20 \\\\ 20 & 200\\end{pmatrix}, \\Sigma_3 = \\begin{pmatrix} 150 & -30 \\\\ -30 & 100\\end{pmatrix}.$$\n",
    "*(Indication: On pourra utiliser la fonction `multivariate_normal`  de `scipy.stats` pour évaluer les fonctions $f_{\\mu, \\Sigma}$)*"
   ]
  },
  {
   "cell_type": "code",
   "execution_count": 3,
   "metadata": {},
   "outputs": [
    {
     "ename": "TypeError",
     "evalue": "Input z must be 2D, not 0D",
     "output_type": "error",
     "traceback": [
      "\u001b[1;31m---------------------------------------------------------------------------\u001b[0m",
      "\u001b[1;31mTypeError\u001b[0m                                 Traceback (most recent call last)",
      "Cell \u001b[1;32mIn[3], line 14\u001b[0m\n\u001b[0;32m     10\u001b[0m fig \u001b[38;5;241m=\u001b[39m plt\u001b[38;5;241m.\u001b[39mfigure()\n\u001b[0;32m     12\u001b[0m ax \u001b[38;5;241m=\u001b[39m fig\u001b[38;5;241m.\u001b[39madd_subplot(\u001b[38;5;241m111\u001b[39m)\n\u001b[1;32m---> 14\u001b[0m CS \u001b[38;5;241m=\u001b[39m \u001b[43max\u001b[49m\u001b[38;5;241;43m.\u001b[39;49m\u001b[43mcontourf\u001b[49m\u001b[43m(\u001b[49m\u001b[43mx\u001b[49m\u001b[43m,\u001b[49m\u001b[43m \u001b[49m\u001b[43my\u001b[49m\u001b[43m,\u001b[49m\u001b[43m \u001b[49m\u001b[43mtopo\u001b[49m\u001b[43m(\u001b[49m\u001b[43mpos\u001b[49m\u001b[43m)\u001b[49m\u001b[43m)\u001b[49m\n\u001b[0;32m     15\u001b[0m CS2 \u001b[38;5;241m=\u001b[39m ax\u001b[38;5;241m.\u001b[39mcontour(CS, levels\u001b[38;5;241m=\u001b[39mCS\u001b[38;5;241m.\u001b[39mlevels)\n\u001b[0;32m     16\u001b[0m \u001b[38;5;66;03m# Make a colorbar for the ContourSet returned by the contourf call.\u001b[39;00m\n",
      "File \u001b[1;32mc:\\miniconda\\envs\\sandbox\\lib\\site-packages\\matplotlib\\__init__.py:1478\u001b[0m, in \u001b[0;36m_preprocess_data.<locals>.inner\u001b[1;34m(ax, data, *args, **kwargs)\u001b[0m\n\u001b[0;32m   1475\u001b[0m \u001b[38;5;129m@functools\u001b[39m\u001b[38;5;241m.\u001b[39mwraps(func)\n\u001b[0;32m   1476\u001b[0m \u001b[38;5;28;01mdef\u001b[39;00m \u001b[38;5;21minner\u001b[39m(ax, \u001b[38;5;241m*\u001b[39margs, data\u001b[38;5;241m=\u001b[39m\u001b[38;5;28;01mNone\u001b[39;00m, \u001b[38;5;241m*\u001b[39m\u001b[38;5;241m*\u001b[39mkwargs):\n\u001b[0;32m   1477\u001b[0m     \u001b[38;5;28;01mif\u001b[39;00m data \u001b[38;5;129;01mis\u001b[39;00m \u001b[38;5;28;01mNone\u001b[39;00m:\n\u001b[1;32m-> 1478\u001b[0m         \u001b[38;5;28;01mreturn\u001b[39;00m func(ax, \u001b[38;5;241m*\u001b[39m\u001b[38;5;28mmap\u001b[39m(sanitize_sequence, args), \u001b[38;5;241m*\u001b[39m\u001b[38;5;241m*\u001b[39mkwargs)\n\u001b[0;32m   1480\u001b[0m     bound \u001b[38;5;241m=\u001b[39m new_sig\u001b[38;5;241m.\u001b[39mbind(ax, \u001b[38;5;241m*\u001b[39margs, \u001b[38;5;241m*\u001b[39m\u001b[38;5;241m*\u001b[39mkwargs)\n\u001b[0;32m   1481\u001b[0m     auto_label \u001b[38;5;241m=\u001b[39m (bound\u001b[38;5;241m.\u001b[39marguments\u001b[38;5;241m.\u001b[39mget(label_namer)\n\u001b[0;32m   1482\u001b[0m                   \u001b[38;5;129;01mor\u001b[39;00m bound\u001b[38;5;241m.\u001b[39mkwargs\u001b[38;5;241m.\u001b[39mget(label_namer))\n",
      "File \u001b[1;32mc:\\miniconda\\envs\\sandbox\\lib\\site-packages\\matplotlib\\axes\\_axes.py:6528\u001b[0m, in \u001b[0;36mAxes.contourf\u001b[1;34m(self, *args, **kwargs)\u001b[0m\n\u001b[0;32m   6519\u001b[0m \u001b[38;5;250m\u001b[39m\u001b[38;5;124;03m\"\"\"\u001b[39;00m\n\u001b[0;32m   6520\u001b[0m \u001b[38;5;124;03mPlot filled contours.\u001b[39;00m\n\u001b[0;32m   6521\u001b[0m \n\u001b[1;32m   (...)\u001b[0m\n\u001b[0;32m   6525\u001b[0m \u001b[38;5;124;03m%(contour_doc)s\u001b[39;00m\n\u001b[0;32m   6526\u001b[0m \u001b[38;5;124;03m\"\"\"\u001b[39;00m\n\u001b[0;32m   6527\u001b[0m kwargs[\u001b[38;5;124m'\u001b[39m\u001b[38;5;124mfilled\u001b[39m\u001b[38;5;124m'\u001b[39m] \u001b[38;5;241m=\u001b[39m \u001b[38;5;28;01mTrue\u001b[39;00m\n\u001b[1;32m-> 6528\u001b[0m contours \u001b[38;5;241m=\u001b[39m mcontour\u001b[38;5;241m.\u001b[39mQuadContourSet(\u001b[38;5;28mself\u001b[39m, \u001b[38;5;241m*\u001b[39margs, \u001b[38;5;241m*\u001b[39m\u001b[38;5;241m*\u001b[39mkwargs)\n\u001b[0;32m   6529\u001b[0m \u001b[38;5;28mself\u001b[39m\u001b[38;5;241m.\u001b[39m_request_autoscale_view()\n\u001b[0;32m   6530\u001b[0m \u001b[38;5;28;01mreturn\u001b[39;00m contours\n",
      "File \u001b[1;32mc:\\miniconda\\envs\\sandbox\\lib\\site-packages\\matplotlib\\contour.py:847\u001b[0m, in \u001b[0;36mContourSet.__init__\u001b[1;34m(self, ax, levels, filled, linewidths, linestyles, hatches, alpha, origin, extent, cmap, colors, norm, vmin, vmax, extend, antialiased, nchunk, locator, transform, negative_linestyles, clip_path, *args, **kwargs)\u001b[0m\n\u001b[0;32m    843\u001b[0m \u001b[38;5;28;01mif\u001b[39;00m \u001b[38;5;28mself\u001b[39m\u001b[38;5;241m.\u001b[39mnegative_linestyles \u001b[38;5;129;01mis\u001b[39;00m \u001b[38;5;28;01mNone\u001b[39;00m:\n\u001b[0;32m    844\u001b[0m     \u001b[38;5;28mself\u001b[39m\u001b[38;5;241m.\u001b[39mnegative_linestyles \u001b[38;5;241m=\u001b[39m \\\n\u001b[0;32m    845\u001b[0m         mpl\u001b[38;5;241m.\u001b[39mrcParams[\u001b[38;5;124m'\u001b[39m\u001b[38;5;124mcontour.negative_linestyle\u001b[39m\u001b[38;5;124m'\u001b[39m]\n\u001b[1;32m--> 847\u001b[0m kwargs \u001b[38;5;241m=\u001b[39m \u001b[38;5;28mself\u001b[39m\u001b[38;5;241m.\u001b[39m_process_args(\u001b[38;5;241m*\u001b[39margs, \u001b[38;5;241m*\u001b[39m\u001b[38;5;241m*\u001b[39mkwargs)\n\u001b[0;32m    848\u001b[0m \u001b[38;5;28mself\u001b[39m\u001b[38;5;241m.\u001b[39m_process_levels()\n\u001b[0;32m    850\u001b[0m \u001b[38;5;28mself\u001b[39m\u001b[38;5;241m.\u001b[39m_extend_min \u001b[38;5;241m=\u001b[39m \u001b[38;5;28mself\u001b[39m\u001b[38;5;241m.\u001b[39mextend \u001b[38;5;129;01min\u001b[39;00m [\u001b[38;5;124m'\u001b[39m\u001b[38;5;124mmin\u001b[39m\u001b[38;5;124m'\u001b[39m, \u001b[38;5;124m'\u001b[39m\u001b[38;5;124mboth\u001b[39m\u001b[38;5;124m'\u001b[39m]\n",
      "File \u001b[1;32mc:\\miniconda\\envs\\sandbox\\lib\\site-packages\\matplotlib\\contour.py:1533\u001b[0m, in \u001b[0;36mQuadContourSet._process_args\u001b[1;34m(self, corner_mask, algorithm, *args, **kwargs)\u001b[0m\n\u001b[0;32m   1530\u001b[0m         corner_mask \u001b[38;5;241m=\u001b[39m mpl\u001b[38;5;241m.\u001b[39mrcParams[\u001b[38;5;124m'\u001b[39m\u001b[38;5;124mcontour.corner_mask\u001b[39m\u001b[38;5;124m'\u001b[39m]\n\u001b[0;32m   1531\u001b[0m \u001b[38;5;28mself\u001b[39m\u001b[38;5;241m.\u001b[39m_corner_mask \u001b[38;5;241m=\u001b[39m corner_mask\n\u001b[1;32m-> 1533\u001b[0m x, y, z \u001b[38;5;241m=\u001b[39m \u001b[38;5;28;43mself\u001b[39;49m\u001b[38;5;241;43m.\u001b[39;49m\u001b[43m_contour_args\u001b[49m\u001b[43m(\u001b[49m\u001b[43margs\u001b[49m\u001b[43m,\u001b[49m\u001b[43m \u001b[49m\u001b[43mkwargs\u001b[49m\u001b[43m)\u001b[49m\n\u001b[0;32m   1535\u001b[0m contour_generator \u001b[38;5;241m=\u001b[39m contourpy\u001b[38;5;241m.\u001b[39mcontour_generator(\n\u001b[0;32m   1536\u001b[0m     x, y, z, name\u001b[38;5;241m=\u001b[39m\u001b[38;5;28mself\u001b[39m\u001b[38;5;241m.\u001b[39m_algorithm, corner_mask\u001b[38;5;241m=\u001b[39m\u001b[38;5;28mself\u001b[39m\u001b[38;5;241m.\u001b[39m_corner_mask,\n\u001b[0;32m   1537\u001b[0m     line_type\u001b[38;5;241m=\u001b[39mcontourpy\u001b[38;5;241m.\u001b[39mLineType\u001b[38;5;241m.\u001b[39mSeparateCode,\n\u001b[0;32m   1538\u001b[0m     fill_type\u001b[38;5;241m=\u001b[39mcontourpy\u001b[38;5;241m.\u001b[39mFillType\u001b[38;5;241m.\u001b[39mOuterCode,\n\u001b[0;32m   1539\u001b[0m     chunk_size\u001b[38;5;241m=\u001b[39m\u001b[38;5;28mself\u001b[39m\u001b[38;5;241m.\u001b[39mnchunk)\n\u001b[0;32m   1541\u001b[0m t \u001b[38;5;241m=\u001b[39m \u001b[38;5;28mself\u001b[39m\u001b[38;5;241m.\u001b[39mget_transform()\n",
      "File \u001b[1;32mc:\\miniconda\\envs\\sandbox\\lib\\site-packages\\matplotlib\\contour.py:1573\u001b[0m, in \u001b[0;36mQuadContourSet._contour_args\u001b[1;34m(self, args, kwargs)\u001b[0m\n\u001b[0;32m   1571\u001b[0m \u001b[38;5;28;01melif\u001b[39;00m \u001b[38;5;241m2\u001b[39m \u001b[38;5;241m<\u001b[39m nargs \u001b[38;5;241m<\u001b[39m\u001b[38;5;241m=\u001b[39m \u001b[38;5;241m4\u001b[39m:\n\u001b[0;32m   1572\u001b[0m     x, y, z_orig, \u001b[38;5;241m*\u001b[39margs \u001b[38;5;241m=\u001b[39m args\n\u001b[1;32m-> 1573\u001b[0m     x, y, z \u001b[38;5;241m=\u001b[39m \u001b[38;5;28;43mself\u001b[39;49m\u001b[38;5;241;43m.\u001b[39;49m\u001b[43m_check_xyz\u001b[49m\u001b[43m(\u001b[49m\u001b[43mx\u001b[49m\u001b[43m,\u001b[49m\u001b[43m \u001b[49m\u001b[43my\u001b[49m\u001b[43m,\u001b[49m\u001b[43m \u001b[49m\u001b[43mz_orig\u001b[49m\u001b[43m,\u001b[49m\u001b[43m \u001b[49m\u001b[43mkwargs\u001b[49m\u001b[43m)\u001b[49m\n\u001b[0;32m   1575\u001b[0m \u001b[38;5;28;01melse\u001b[39;00m:\n\u001b[0;32m   1576\u001b[0m     \u001b[38;5;28;01mraise\u001b[39;00m _api\u001b[38;5;241m.\u001b[39mnargs_error(fn, takes\u001b[38;5;241m=\u001b[39m\u001b[38;5;124m\"\u001b[39m\u001b[38;5;124mfrom 1 to 4\u001b[39m\u001b[38;5;124m\"\u001b[39m, given\u001b[38;5;241m=\u001b[39mnargs)\n",
      "File \u001b[1;32mc:\\miniconda\\envs\\sandbox\\lib\\site-packages\\matplotlib\\contour.py:1599\u001b[0m, in \u001b[0;36mQuadContourSet._check_xyz\u001b[1;34m(self, x, y, z, kwargs)\u001b[0m\n\u001b[0;32m   1596\u001b[0m z \u001b[38;5;241m=\u001b[39m ma\u001b[38;5;241m.\u001b[39masarray(z)\n\u001b[0;32m   1598\u001b[0m \u001b[38;5;28;01mif\u001b[39;00m z\u001b[38;5;241m.\u001b[39mndim \u001b[38;5;241m!=\u001b[39m \u001b[38;5;241m2\u001b[39m:\n\u001b[1;32m-> 1599\u001b[0m     \u001b[38;5;28;01mraise\u001b[39;00m \u001b[38;5;167;01mTypeError\u001b[39;00m(\u001b[38;5;124mf\u001b[39m\u001b[38;5;124m\"\u001b[39m\u001b[38;5;124mInput z must be 2D, not \u001b[39m\u001b[38;5;132;01m{\u001b[39;00mz\u001b[38;5;241m.\u001b[39mndim\u001b[38;5;132;01m}\u001b[39;00m\u001b[38;5;124mD\u001b[39m\u001b[38;5;124m\"\u001b[39m)\n\u001b[0;32m   1600\u001b[0m \u001b[38;5;28;01mif\u001b[39;00m z\u001b[38;5;241m.\u001b[39mshape[\u001b[38;5;241m0\u001b[39m] \u001b[38;5;241m<\u001b[39m \u001b[38;5;241m2\u001b[39m \u001b[38;5;129;01mor\u001b[39;00m z\u001b[38;5;241m.\u001b[39mshape[\u001b[38;5;241m1\u001b[39m] \u001b[38;5;241m<\u001b[39m \u001b[38;5;241m2\u001b[39m:\n\u001b[0;32m   1601\u001b[0m     \u001b[38;5;28;01mraise\u001b[39;00m \u001b[38;5;167;01mTypeError\u001b[39;00m(\u001b[38;5;124mf\u001b[39m\u001b[38;5;124m\"\u001b[39m\u001b[38;5;124mInput z must be at least a (2, 2) shaped array, \u001b[39m\u001b[38;5;124m\"\u001b[39m\n\u001b[0;32m   1602\u001b[0m                     \u001b[38;5;124mf\u001b[39m\u001b[38;5;124m\"\u001b[39m\u001b[38;5;124mbut has shape \u001b[39m\u001b[38;5;132;01m{\u001b[39;00mz\u001b[38;5;241m.\u001b[39mshape\u001b[38;5;132;01m}\u001b[39;00m\u001b[38;5;124m\"\u001b[39m)\n",
      "\u001b[1;31mTypeError\u001b[0m: Input z must be 2D, not 0D"
     ]
    },
    {
     "data": {
      "image/png": "[encoded data removed]",
      "text/plain": [
       "<Figure size 640x480 with 1 Axes>"
      ]
     },
     "metadata": {},
     "output_type": "display_data"
    }
   ],
   "source": [
    "x, y = np.mgrid[0:100:.05, 0:100:.05]\n",
    "\n",
    "pos = np.dstack((x, y))\n",
    "\n",
    "\n",
    "def topo(x): \n",
    "\n",
    "    return\n",
    "\n",
    "fig = plt.figure()\n",
    "\n",
    "ax = fig.add_subplot(111)\n",
    "\n",
    "CS = ax.contourf(x, y, topo(pos))\n",
    "CS2 = ax.contour(CS, levels=CS.levels)\n",
    "# Make a colorbar for the ContourSet returned by the contourf call.\n",
    "cbar = fig.colorbar(CS)\n",
    "cbar.ax.set_ylabel('altitude')\n",
    "# Add the contour line levels to the colorbar\n",
    "cbar.add_lines(CS2)\n",
    "plt.show()"
   ]
  },
  {
   "cell_type": "markdown",
   "metadata": {},
   "source": [
    "On supposera en première approximation que l'on peut considérer les supports des fonctions $f_{(30,20),\\Sigma_1}$, $f_{(80,45),\\Sigma_2}$ et $f_{(30,70),\\Sigma_3}$ comme disjoints, que le maximum de la fonction $f$ vaut\n",
    "$$ f_{\\max}=\\max_{x\\in D} f(x)=10^4\\times f_{(30,70),\\Sigma_3}(30,70) $$\n",
    "et que son minimum vaut\n",
    "$$ f_{\\min}=\\min_{x\\in D} f(x)=0$$\n",
    "<!-- et que \n",
    "$$ \\int_D f_{(3,2),\\Sigma_1}(x) dx=\\int_D f_{(8,4.5),\\Sigma_2}(x) dx=\\int_D f_{(3,7),\\Sigma_3}(x) dx=1$$ -> ça j'aimerais bien qu'ils s'en aperçoivent par eux même !-->"
   ]
  },
  {
   "cell_type": "markdown",
   "metadata": {},
   "source": [
    "Le processus d'implantation des arbres étant entravé par l'altitude, on choisi désormais de modéliser leur position par un processus de Poisson hétérogène dont l'intensité $\\theta$ est de la forme :\n",
    "$$ \\theta(x)=\\alpha\\times(f_{\\max} - f(x) )$$\n",
    "avec $ \\alpha>0$. "
   ]
  },
  {
   "cell_type": "markdown",
   "metadata": {},
   "source": [
    "\n",
    "**Question 6.** Déterminer le paramètre $\\alpha$ de la fonction d'intensité $\\theta$ tel que le nombre moyen d'arbres dans $D$ soit le même que celui obtenu à la Question 4 de la section précédente (cas homogène). Implémenter un algorithme de simulation d'un processus de Poisson suivant cette intensité sur $D$. Représenter graphiquement une réalisation.\n",
    "\n"
   ]
  },
  {
   "cell_type": "code",
   "execution_count": null,
   "metadata": {},
   "outputs": [],
   "source": [
    "def theta(x):\n",
    "    return \n",
    "\n",
    "# Rejection sampling for theta\n",
    "def rtheta(n, a, b):\n",
    "    k = 0\n",
    "    pts = np.empty((0, 2))\n",
    "    while k < n:\n",
    "        x = \n",
    "        y = \n",
    "        u = \n",
    "        if u < theta((x[0],y[0])): # remark: no need to know the normalization constant!\n",
    "            pts = np.vstack((pts, [x[0], y[0]]))\n",
    "            k += 1 \n",
    "    return pts\n",
    "\n",
    "# Poisson simulation function with rejection sampling\n",
    "def poisson2(a, b):\n",
    "    Theta = \n",
    "    N = \n",
    "    return rtheta(N, a, b)\n",
    "\n",
    "\n",
    "# Plotting\n",
    "X = poisson2(a, b)\n",
    "plt.scatter(X[:, 0], X[:, 1],s=2)\n",
    "plt.show()\n",
    "\n",
    "# Plot 2D histogram\n",
    "plt.hist2d(X[:,0],X[:,1],50)\n",
    "plt.show()"
   ]
  },
  {
   "cell_type": "markdown",
   "metadata": {},
   "source": [
    "## Processus ponctuels marqués et extension spatio-temporelle\n",
    "\n",
    "En complément de la coordonnée en chaque point du processus, on peut attribuer une ou plusieurs variables aléatoires. Celles-ci peuvent représenter des caractéristiques du phénomène étudié comme la magnitude d'un séisme ou bien la hauteur d'un arbre. \n",
    "\n",
    "**Question 1.** On suppose que chaque arbre croît indépendamment chaque année $t$ selon une loi exponentielle de paramètre $4 + B_t/2$, où les $B_t$ sont des variables de Bernoulli indépendantes de paramètre $2/5$. $B_t$ vaudra 0 si les conditions météorologiques de l'année sont favorables et 1 sinon. Calculer la hauteur moyenne d' un arbre au bout de 10 ans. Vérifier le résultat expérimentalement en proposant un estimateur calculé sur un ensemble de simulations ainsi qu'un intervalle de confiance."
   ]
  },
  {
   "cell_type": "markdown",
   "metadata": {},
   "source": [
    "On a la hauteur au bout de 10 ans $H_{10} = \\sum_{t=1}^{10}{H_t}$ avec les Ht indépendant \n",
    "\n",
    "d'où $E(H_{10}) = 10 * E(H_t)$\n",
    "\n",
    "avec $E(H_t) = \\frac{2}{5} \\int_{0}^{\\infty}{4.5xe^{-4.5x}} + \\frac{3}{5} \\int_{0}^{\\infty}{4xe^{-4x}} = \\frac{2}{5} * \\frac{2}{9} + \\frac{3}{5} * \\frac{1}{4} = \\frac{43}{180}$\n",
    "\n",
    "d'ou $E(H_{10}) = \\frac{43}{18}$"
   ]
  },
  {
   "cell_type": "code",
   "execution_count": 19,
   "metadata": {},
   "outputs": [
    {
     "name": "stdout",
     "output_type": "stream",
     "text": [
      "True mean:  2.388888888888889\n",
      "Mean of simulations:  2.3902355809691835\n",
      "Confidence interval:  [2.3854491884284896, 2.3950219735098774]\n"
     ]
    }
   ],
   "source": [
    "## True mean \n",
    "h_mean=43/18\n",
    "\n",
    "## Growth after one year\n",
    "def height_1(b):\n",
    "    L=  np.random.exponential(1/(4+b/2))\n",
    "    return L\n",
    "\n",
    "## Height after ten years\n",
    "def height_n(nyears=10):\n",
    "    h = 0 \n",
    "    for i in range(nyears):\n",
    "        b = np.random.binomial(1,0.4)\n",
    "        h += height_1(b)\n",
    "        \n",
    "    return h\n",
    "\n",
    "## Mean of simulations\n",
    "nbsim= 100000# large number of trees\n",
    "hsim=[height_n() for i in range(nbsim)]\n",
    "hsim_mean= sum(hsim)/nbsim\n",
    "print(\"True mean: \",h_mean)\n",
    "print(\"Mean of simulations: \",hsim_mean)\n",
    "\n",
    "## Proposed confidence interval: \n",
    "hsim_std= np.std(hsim)\n",
    "hsim_conf= [hsim_mean-2*hsim_std/np.sqrt(nbsim),hsim_mean+2*hsim_std/np.sqrt(nbsim)]\n",
    "print(\"Confidence interval: \",hsim_conf)\n",
    "\n"
   ]
  },
  {
   "cell_type": "markdown",
   "metadata": {},
   "source": [
    "On suppose maintenant que dès qu'un arbre a dépassé les 3m de hauteur, il va disperser un nombre poissonien d'intensité 3 de graines qui germeront dans un rayon exponentiel de paramètre 1/20. Ceci définit un processus ponctuel représentant des agrégats, connu sous le nom de processus de Neyman-Scott. On fait de plus l'hypothèse que la proximité entre arbres va entraver leur croissance annuelle, de fait que celle-ci suivra une loi exponentielle de paramètre $4 + B_t/2 + 2\\exp(-d)$, où $d$ est la distance à l'arbre le plus proche. Enfin, on considère que lors des années où la météo est défavorable, les arbres sont décimés indépendamment les uns des autres avec une probabilité $\\min(0.15,1/T^2)$ où $T$ est la taille de l'arbre en mètres.\n"
   ]
  },
  {
   "cell_type": "markdown",
   "metadata": {},
   "source": [
    "\n",
    "**Question 2.** Simuler cette dynamique sur une période de 100 ans à partir de l'état initial de la forêt généré à la question 6 de la section précédente. Représenter l'état final en faisant apparaître la hauteur des arbres via une échelle de couleur (on négligera les arbres qui pousseront en dehors du domaine d'étude)."
   ]
  },
  {
   "cell_type": "code",
   "execution_count": null,
   "metadata": {},
   "outputs": [],
   "source": [
    "from scipy.spatial import distance\n",
    "## Growth after one year\n",
    "def height_1(b, d):\n",
    "    L=  np.random.exponential(1/(4+b/2+2*np.exp(-d)))\n",
    "    return L\n",
    "\n",
    "## Compute distance to closest tree\n",
    "def computeMinDist(X):\n",
    "    Y = X[:, :2]\n",
    "    dist_matrix = distance.cdist(Y, Y, 'euclidean')\n",
    "    sorted_distances = np.sort(dist_matrix, axis=1)\n",
    "\n",
    "    min_distances = sorted_distances[:, 1]\n",
    "\n",
    "    return min_distances\n",
    "\n",
    "## Definition of the probability of decimation\n",
    "### h : Height of the tree\n",
    "### pmax : Maximum of the probability\n",
    "def probDecim(h,pmax):  \n",
    "    return min(1/h**2,pmax)\n",
    "\n",
    "## Function to simulate the forest\n",
    "def simForest(nbyears,lam,param,pmax):\n",
    "\n",
    "\n",
    "    ## Simulate the position of initial trees: (x,y,time of birth)\n",
    "    \n",
    "    X = poisson2(100, 100)\n",
    "    X = np.hstack((X,np.zeros((np.shape(X)[0],1))))\n",
    "\n",
    "    ## Heights\n",
    "    H = np.zeros((np.shape(X)[0]))\n",
    "    # Initial heights\n",
    "\n",
    "    ## Age\n",
    "    \n",
    "\n",
    "    for i in range(nbyears):\n",
    "        \n",
    "        ## Weather\n",
    "        b = np.random.binomial(1,0.4)\n",
    "\n",
    "        ## Compute distance to closest tree\n",
    "        DistanceMin = computeMinDist(X)\n",
    "        ## Add heights\n",
    "        decimed = []\n",
    "        for k in range(np.shape(X)[0]):\n",
    "            H[k] += height_1(b,DistanceMin[k])\n",
    "        ## Decimate\n",
    "        if b ==1:\n",
    "            for k in range(np.shape(X)[0]):\n",
    "                if np.random.uniform(0,1) < probDecim(H[k],pmax):\n",
    "                    decimed.append(k)\n",
    "            X = np.delete(X, decimed, axis=0)\n",
    "            H = np.delete(H, decimed, axis=0)   \n",
    "            \n",
    "        if len(H)==0:\n",
    "            print(\"All trees have died...\")\n",
    "            break\n",
    "            \n",
    "        \n",
    "        ## Find which trees have just reached 3m\n",
    "        high_trees = np.where(H>=3)[0]\n",
    "        ## Spawn new trees\n",
    "        for k in high_trees:\n",
    "            for j in np.random.poisson(lam, 1):\n",
    "                r = np.random.exponential(param,1)\n",
    "                angle = np.random.uniform(0,2*np.pi,1)\n",
    "                X.append([X[k,0]+r*np.cos(angle),X[k,1]+r*np.sin(angle),i])\n",
    "                H.append(0)\n",
    "                \n",
    "    return X, H\n",
    "\n"
   ]
  },
  {
   "cell_type": "code",
   "execution_count": null,
   "metadata": {},
   "outputs": [],
   "source": [
    "## Intensity of the offsprings\n",
    "lam=3\n",
    "\n",
    "## Parameter of the radius\n",
    "param=1/20\n",
    "\n",
    "## Maximal probability of decimation\n",
    "pmax=0.15\n",
    "\n",
    "## Number of years\n",
    "nbyears=100\n",
    "\n",
    "## Generate simulation\n",
    "X, h = simForest(nbyears,lam,param,pmax)\n",
    "\n",
    "## Plot\n",
    "plt.scatter(X[:,0],X[:,1],c=h,s=1)\n",
    "plt.xlim(0,100)\n",
    "plt.ylim(0,100)\n",
    "plt.colorbar()\n",
    "plt.title(\"Number of trees: \"+str(X.shape[0]))\n",
    "plt.show()"
   ]
  },
  {
   "cell_type": "markdown",
   "metadata": {},
   "source": [
    "\n",
    "**Question 3.** Répéter la simulation précédente un grand nombre de fois. Proposer une estimation accompagnée d'un intervalle de confiance du nombre moyen d'arbres, de l'âge moyen des arbres ainsi que de leur taille moyenne à l'issue des 100 années d'évolution."
   ]
  },
  {
   "cell_type": "code",
   "execution_count": null,
   "metadata": {},
   "outputs": [],
   "source": [
    "## Number of simulations\n",
    "nbsim = 1000\n",
    "def data(X,H):\n",
    "    return len(H), H.mean(), (100- X[:,2].mean())\n",
    "## Generate simulations\n",
    "Nlist=np.zeros(nbsim)\n",
    "hlist=np.zeros(nbsim)\n",
    "agelist=np.zeros(nbsim)\n",
    "for i in range(nbsim):\n",
    "    X, h = simForest(nbyears,lam,param,pmax)\n",
    "    Nlist[i], hlist[i], agelist[i] = data(X,h)\n",
    "    \n",
    "Nlistmean = Nlist.mean() \n",
    "hlistmean = hlist.mean()\n",
    "## Means\n",
    "print(\"Mean number of trees:\",Nlistmean)\n",
    "print(\"Mean height of trees:\",hlistmean)\n",
    "\n",
    "Nliststd = np.std(Nlist)\n",
    "hliststd = np.std(hlist)\n",
    "\n",
    "hlist_conf= [hlistmean-2*hliststd/np.sqrt(nbsim),hlistmean+2*hliststd/np.sqrt(nbsim)]\n",
    "Nlist_conf= [Nlistmean-2*Nliststd/np.sqrt(nbsim),Nlistmean+2*Nliststd/np.sqrt(nbsim)]"
   ]
  },
  {
   "cell_type": "markdown",
   "metadata": {},
   "source": [
    "**Question 4.** (facultatif) Proposer et implémenter un algorithme rendant la simulation plus réaliste, au regard des ressources que vous pourriez trouver par vous même.\n",
    "\n",
    "**Question 5.** (facultatif) Représenter sous forme dynamique (animation) l'évolution de la forêt sur la période considérée."
   ]
  }
 ],
 "metadata": {
  "kernelspec": {
   "display_name": "CDIS",
   "language": "python",
   "name": "python3"
  },
  "language_info": {
   "codemirror_mode": {
    "name": "ipython",
    "version": 3
   },
   "file_extension": ".py",
   "mimetype": "text/x-python",
   "name": "python",
   "nbconvert_exporter": "python",
   "pygments_lexer": "ipython3",
   "version": "3.10.13"
  }
 },
 "nbformat": 4,
 "nbformat_minor": 2
}
